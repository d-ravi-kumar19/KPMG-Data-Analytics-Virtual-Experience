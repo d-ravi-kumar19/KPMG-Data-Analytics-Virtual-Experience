{
 "cells": [
  {
   "cell_type": "code",
   "execution_count": 1,
   "id": "85afac77",
   "metadata": {},
   "outputs": [],
   "source": [
    "import numpy as np\n",
    "import pandas as pd\n",
    "import matplotlib.pyplot as plt\n",
    "import seaborn as sns\n",
    "import warnings \n",
    "warnings.filterwarnings('ignore')"
   ]
  },
  {
   "cell_type": "code",
   "execution_count": null,
   "id": "6619af7f",
   "metadata": {},
   "outputs": [],
   "source": [
    "trans_df= pd.read_excel('transactions.xlsx',skiprows=1)\n",
    "trans_df.head()"
   ]
  },
  {
   "cell_type": "code",
   "execution_count": null,
   "id": "47b5ced3",
   "metadata": {},
   "outputs": [],
   "source": [
    "cust_address_df= pd.read_excel('CustomerAddress.xlsx',skiprows=1)\n",
    "cust_address_df.head()"
   ]
  },
  {
   "cell_type": "code",
   "execution_count": null,
   "id": "1df30201",
   "metadata": {},
   "outputs": [],
   "source": [
    "cust_demographic_df= pd.read_excel('CustomerDemographics.xlsx',skiprows=1)\n",
    "cust_demographic_df.head()"
   ]
  },
  {
   "cell_type": "code",
   "execution_count": null,
   "id": "e9ecba38",
   "metadata": {},
   "outputs": [],
   "source": [
    "new_custList_df= pd.read_excel('NewCustomerList.xlsx',skiprows=1)\n",
    "new_custList_df.head()"
   ]
  },
  {
   "cell_type": "markdown",
   "id": "9a3e2eb5",
   "metadata": {},
   "source": [
    "# Transaction data"
   ]
  },
  {
   "cell_type": "code",
   "execution_count": null,
   "id": "99e0c722",
   "metadata": {},
   "outputs": [],
   "source": [
    "trans_df.info()"
   ]
  },
  {
   "cell_type": "code",
   "execution_count": null,
   "id": "51574a1f",
   "metadata": {},
   "outputs": [],
   "source": [
    "trans_df.isnull().sum()"
   ]
  },
  {
   "cell_type": "code",
   "execution_count": null,
   "id": "d334b297",
   "metadata": {},
   "outputs": [],
   "source": [
    "trans_df.describe()"
   ]
  },
  {
   "cell_type": "code",
   "execution_count": null,
   "id": "6b4e1cc5",
   "metadata": {},
   "outputs": [],
   "source": [
    "trans_df.columns"
   ]
  },
  {
   "cell_type": "code",
   "execution_count": null,
   "id": "26addc81",
   "metadata": {},
   "outputs": [],
   "source": [
    "print(trans_df.online_order.unique())\n",
    "print(trans_df.brand.unique())\n",
    "print(trans_df.product_line.unique())\n",
    "print(trans_df.product_class.unique())\n",
    "print(trans_df.product_size.unique())"
   ]
  },
  {
   "cell_type": "code",
   "execution_count": null,
   "id": "9d703f97",
   "metadata": {},
   "outputs": [],
   "source": [
    "trans_df.product_size.mode()[0]"
   ]
  },
  {
   "cell_type": "code",
   "execution_count": null,
   "id": "e32dbb04",
   "metadata": {},
   "outputs": [],
   "source": [
    "trans_df.product_class.fillna('medium',inplace=True)\n",
    "trans_df.product_line.fillna('Standard',inplace=True)\n",
    "trans_df.brand.fillna('others',inplace=True)\n",
    "trans_df.product_size.fillna('medium',inplace=True)\n",
    "trans_df.online_order.fillna(0,inplace=True)\n",
    "\n",
    "trans_df.isnull().sum()"
   ]
  },
  {
   "cell_type": "code",
   "execution_count": null,
   "id": "eca8282a",
   "metadata": {},
   "outputs": [],
   "source": [
    "trans_df.standard_cost.mean()"
   ]
  },
  {
   "cell_type": "code",
   "execution_count": null,
   "id": "f5641c8b",
   "metadata": {},
   "outputs": [],
   "source": [
    "trans_df.product_first_sold_date.mean()"
   ]
  },
  {
   "cell_type": "code",
   "execution_count": null,
   "id": "f61e7c1d",
   "metadata": {},
   "outputs": [],
   "source": [
    "trans_df.product_first_sold_date.fillna(trans_df.product_first_sold_date.mean(),inplace=True)\n",
    "trans_df.standard_cost.fillna(trans_df.standard_cost.mean(),inplace=True)"
   ]
  },
  {
   "cell_type": "code",
   "execution_count": null,
   "id": "b9123dcf",
   "metadata": {},
   "outputs": [],
   "source": [
    "trans_df.isnull().sum()"
   ]
  },
  {
   "cell_type": "code",
   "execution_count": null,
   "id": "fc2fe477",
   "metadata": {},
   "outputs": [],
   "source": [
    "trans_df.describe()"
   ]
  },
  {
   "cell_type": "code",
   "execution_count": null,
   "id": "081ce175",
   "metadata": {
    "scrolled": true
   },
   "outputs": [],
   "source": [
    "trans_df.head()"
   ]
  },
  {
   "cell_type": "code",
   "execution_count": null,
   "id": "2cdefc13",
   "metadata": {},
   "outputs": [],
   "source": [
    "trans_df.order_status.value_counts()"
   ]
  },
  {
   "cell_type": "code",
   "execution_count": null,
   "id": "df42e7b8",
   "metadata": {},
   "outputs": [],
   "source": [
    "trans_df.brand.value_counts()"
   ]
  },
  {
   "cell_type": "code",
   "execution_count": null,
   "id": "e0893d70",
   "metadata": {},
   "outputs": [],
   "source": [
    "trans_df.product_line.value_counts()"
   ]
  },
  {
   "cell_type": "code",
   "execution_count": null,
   "id": "09c6e439",
   "metadata": {},
   "outputs": [],
   "source": [
    "trans_df.product_class.value_counts()"
   ]
  },
  {
   "cell_type": "code",
   "execution_count": null,
   "id": "55deeb1a",
   "metadata": {},
   "outputs": [],
   "source": [
    "trans_df.product_size.value_counts()"
   ]
  },
  {
   "cell_type": "code",
   "execution_count": null,
   "id": "037a42fc",
   "metadata": {},
   "outputs": [],
   "source": [
    "sns.distplot(trans_df.list_price,label='price')\n",
    "sns.distplot(trans_df.standard_cost,label='Standard cost')\n",
    "plt.legend()\n",
    "plt.show()"
   ]
  },
  {
   "cell_type": "code",
   "execution_count": null,
   "id": "28d549ed",
   "metadata": {},
   "outputs": [],
   "source": [
    "trans_df['transaction_date'].min()"
   ]
  },
  {
   "cell_type": "code",
   "execution_count": null,
   "id": "1df84c0c",
   "metadata": {},
   "outputs": [],
   "source": [
    "trans_df['transaction_date'].max()"
   ]
  },
  {
   "cell_type": "code",
   "execution_count": null,
   "id": "dac58e95",
   "metadata": {},
   "outputs": [],
   "source": [
    "trans_df.duplicated().sum()"
   ]
  },
  {
   "cell_type": "code",
   "execution_count": null,
   "id": "a15bc087",
   "metadata": {},
   "outputs": [],
   "source": [
    "trans_df.nunique()"
   ]
  },
  {
   "cell_type": "code",
   "execution_count": null,
   "id": "a1c28b94",
   "metadata": {},
   "outputs": [],
   "source": []
  },
  {
   "cell_type": "code",
   "execution_count": null,
   "id": "606c6fc8",
   "metadata": {},
   "outputs": [],
   "source": [
    "trans_df.to_csv('transaction_cleaned.csv',index=False)"
   ]
  },
  {
   "cell_type": "markdown",
   "id": "61c0699e",
   "metadata": {},
   "source": [
    "# Customer Demographic data"
   ]
  },
  {
   "cell_type": "code",
   "execution_count": null,
   "id": "8f70d4ee",
   "metadata": {},
   "outputs": [],
   "source": [
    "cust_demographic_df.head()"
   ]
  },
  {
   "cell_type": "code",
   "execution_count": null,
   "id": "9871f018",
   "metadata": {},
   "outputs": [],
   "source": [
    "cust_demographic_df.DOB.dtype"
   ]
  },
  {
   "cell_type": "code",
   "execution_count": null,
   "id": "fc4cf9cc",
   "metadata": {},
   "outputs": [],
   "source": [
    "cust_demographic_df.drop(['default'],axis=1,inplace=True)\n",
    "cust_demographic_df.job_title.fillna('others',inplace=True)\n",
    "cust_demographic_df.job_industry_category.fillna('others',inplace=True)"
   ]
  },
  {
   "cell_type": "code",
   "execution_count": null,
   "id": "82931a1b",
   "metadata": {},
   "outputs": [],
   "source": [
    "cust_demographic_df.isnull().sum()"
   ]
  },
  {
   "cell_type": "code",
   "execution_count": null,
   "id": "dee6d355",
   "metadata": {},
   "outputs": [],
   "source": []
  },
  {
   "cell_type": "code",
   "execution_count": null,
   "id": "a83866cb",
   "metadata": {},
   "outputs": [],
   "source": [
    "print(cust_demographic_df.deceased_indicator.unique())\n",
    "print(cust_demographic_df.job_industry_category.unique())\n",
    "print()\n",
    "print(cust_demographic_df.job_title.unique())\n"
   ]
  },
  {
   "cell_type": "code",
   "execution_count": null,
   "id": "d8fab02a",
   "metadata": {},
   "outputs": [],
   "source": [
    "cust_demographic_df['last_name'].fillna(' ',inplace= True)"
   ]
  },
  {
   "cell_type": "code",
   "execution_count": null,
   "id": "4bac26de",
   "metadata": {},
   "outputs": [],
   "source": [
    "cust_demographic_df['Full name']= (cust_demographic_df['first_name']+ ' '+cust_demographic_df['last_name'])\n",
    "cust_demographic_df.head()"
   ]
  },
  {
   "cell_type": "code",
   "execution_count": null,
   "id": "6dfbd0e9",
   "metadata": {},
   "outputs": [],
   "source": [
    "cust_demographic_df.info()"
   ]
  },
  {
   "cell_type": "code",
   "execution_count": null,
   "id": "51a33aaf",
   "metadata": {},
   "outputs": [],
   "source": []
  },
  {
   "cell_type": "code",
   "execution_count": null,
   "id": "fa5e355f",
   "metadata": {
    "scrolled": false
   },
   "outputs": [],
   "source": [
    "sorted(list(cust_demographic_df.job_title.unique()))"
   ]
  },
  {
   "cell_type": "code",
   "execution_count": null,
   "id": "18f7de16",
   "metadata": {},
   "outputs": [],
   "source": [
    "cust_demographic_df.DOB.unique()"
   ]
  },
  {
   "cell_type": "code",
   "execution_count": null,
   "id": "57ab1d68",
   "metadata": {},
   "outputs": [],
   "source": [
    "cust_demographic_df.duplicated().sum()"
   ]
  },
  {
   "cell_type": "code",
   "execution_count": null,
   "id": "c777c4f9",
   "metadata": {},
   "outputs": [],
   "source": [
    "cust_demographic_df.to_csv('cust_demograph_cleaned.csv',index=False)"
   ]
  },
  {
   "cell_type": "code",
   "execution_count": null,
   "id": "736b5ad8",
   "metadata": {},
   "outputs": [],
   "source": []
  },
  {
   "cell_type": "markdown",
   "id": "1ebb2bb5",
   "metadata": {},
   "source": [
    "# Customer Address data"
   ]
  },
  {
   "cell_type": "code",
   "execution_count": null,
   "id": "660dff8a",
   "metadata": {},
   "outputs": [],
   "source": [
    "cust_address_df.head()"
   ]
  },
  {
   "cell_type": "code",
   "execution_count": null,
   "id": "8ac9dd5a",
   "metadata": {},
   "outputs": [],
   "source": [
    "cust_address_df.info()"
   ]
  },
  {
   "cell_type": "code",
   "execution_count": null,
   "id": "8ded0eff",
   "metadata": {},
   "outputs": [],
   "source": [
    "cust_address_df.isnull().sum()"
   ]
  },
  {
   "cell_type": "code",
   "execution_count": null,
   "id": "f0bf4772",
   "metadata": {},
   "outputs": [],
   "source": [
    "cust_address_df.info()"
   ]
  },
  {
   "cell_type": "code",
   "execution_count": null,
   "id": "f8457867",
   "metadata": {},
   "outputs": [],
   "source": [
    "cust_address_df.country.value_counts()"
   ]
  },
  {
   "cell_type": "code",
   "execution_count": null,
   "id": "681906d2",
   "metadata": {},
   "outputs": [],
   "source": [
    "cust_address_df.property_valuation.value_counts().sort_values(ascending= False)"
   ]
  },
  {
   "cell_type": "code",
   "execution_count": null,
   "id": "a84b7cc0",
   "metadata": {},
   "outputs": [],
   "source": [
    "cust_address_df.duplicated().sum()"
   ]
  },
  {
   "cell_type": "code",
   "execution_count": null,
   "id": "6cddb934",
   "metadata": {},
   "outputs": [],
   "source": [
    "cust_address_df.nunique()"
   ]
  },
  {
   "cell_type": "markdown",
   "id": "8dbc456b",
   "metadata": {},
   "source": [
    "# NewCustomerList data"
   ]
  },
  {
   "cell_type": "code",
   "execution_count": null,
   "id": "5541a58a",
   "metadata": {},
   "outputs": [],
   "source": [
    "new_custList_df.head()"
   ]
  },
  {
   "cell_type": "code",
   "execution_count": null,
   "id": "a5bfedb9",
   "metadata": {
    "scrolled": true
   },
   "outputs": [],
   "source": [
    "new_custList_df.columns"
   ]
  },
  {
   "cell_type": "code",
   "execution_count": null,
   "id": "fa0a0d23",
   "metadata": {},
   "outputs": [],
   "source": [
    "new_custList_df.isnull().sum()"
   ]
  },
  {
   "cell_type": "code",
   "execution_count": null,
   "id": "266f8545",
   "metadata": {},
   "outputs": [],
   "source": [
    "new_custList_df['last_name'].fillna(' ',inplace= True)\n",
    "new_custList_df['job_title'].fillna('others',inplace= True)\n",
    "new_custList_df['job_industry_category'].fillna('others',inplace= True)\n",
    "\n",
    "new_custList_df.isnull().sum()"
   ]
  },
  {
   "cell_type": "code",
   "execution_count": null,
   "id": "bca39c25",
   "metadata": {
    "scrolled": false
   },
   "outputs": [],
   "source": [
    "sorted(list(new_custList_df.job_title.unique()))"
   ]
  },
  {
   "cell_type": "code",
   "execution_count": null,
   "id": "6d2166b2",
   "metadata": {},
   "outputs": [],
   "source": [
    "new_custList_df.drop(['Unnamed: 16','Unnamed: 17','Unnamed: 18','Unnamed: 19','Unnamed: 20'],axis=1,inplace=True)"
   ]
  },
  {
   "cell_type": "code",
   "execution_count": null,
   "id": "56c25155",
   "metadata": {},
   "outputs": [],
   "source": [
    "new_custList_df.gender.unique()"
   ]
  },
  {
   "cell_type": "code",
   "execution_count": null,
   "id": "e08f481e",
   "metadata": {},
   "outputs": [],
   "source": [
    "new_custList_df[new_custList_df['gender']=='U'].head()"
   ]
  },
  {
   "cell_type": "code",
   "execution_count": null,
   "id": "3bcf4435",
   "metadata": {},
   "outputs": [],
   "source": [
    "new_custList_df['gender']= new_custList_df['gender'].replace('U','Unknown')"
   ]
  },
  {
   "cell_type": "code",
   "execution_count": null,
   "id": "e7fc369a",
   "metadata": {},
   "outputs": [],
   "source": [
    "new_custList_df.gender.value_counts()"
   ]
  },
  {
   "cell_type": "code",
   "execution_count": null,
   "id": "e356e143",
   "metadata": {},
   "outputs": [],
   "source": [
    "new_custList_df.wealth_segment.value_counts()"
   ]
  },
  {
   "cell_type": "code",
   "execution_count": null,
   "id": "4555429e",
   "metadata": {},
   "outputs": [],
   "source": [
    "new_custList_df.deceased_indicator.replace('N','No').value_counts()"
   ]
  },
  {
   "cell_type": "code",
   "execution_count": null,
   "id": "b8a9557b",
   "metadata": {},
   "outputs": [],
   "source": [
    "new_custList_df.country.value_counts()"
   ]
  },
  {
   "cell_type": "code",
   "execution_count": null,
   "id": "08f5512f",
   "metadata": {},
   "outputs": [],
   "source": [
    "new_custList_df.state.value_counts()"
   ]
  },
  {
   "cell_type": "code",
   "execution_count": null,
   "id": "5f3175f2",
   "metadata": {
    "scrolled": false
   },
   "outputs": [],
   "source": [
    "sns.distplot(new_custList_df.property_valuation)"
   ]
  },
  {
   "cell_type": "code",
   "execution_count": null,
   "id": "db38a0ed",
   "metadata": {
    "scrolled": false
   },
   "outputs": [],
   "source": [
    "df=pd.DataFrame(new_custList_df.Rank.value_counts(bins=20))\n",
    "df=df.sort_index()\n",
    "plt.figure(figsize=(12,4))\n",
    "sns.barplot(x=df.index,y=df.Rank)\n",
    "plt.xticks(rotation=45);"
   ]
  },
  {
   "cell_type": "code",
   "execution_count": null,
   "id": "da8644d6",
   "metadata": {},
   "outputs": [],
   "source": [
    "new_custList_df.duplicated().sum()"
   ]
  },
  {
   "cell_type": "code",
   "execution_count": null,
   "id": "dd52807e",
   "metadata": {},
   "outputs": [],
   "source": [
    "new_custList_df.nunique()"
   ]
  },
  {
   "cell_type": "code",
   "execution_count": null,
   "id": "3d748dc3",
   "metadata": {},
   "outputs": [],
   "source": []
  },
  {
   "cell_type": "code",
   "execution_count": null,
   "id": "ea4bedd3",
   "metadata": {},
   "outputs": [],
   "source": [
    "new_custList_df.to_csv('NewCustomerList_cleaned.csv',index=False)"
   ]
  },
  {
   "cell_type": "code",
   "execution_count": null,
   "id": "79a231af",
   "metadata": {},
   "outputs": [],
   "source": []
  }
 ],
 "metadata": {
  "kernelspec": {
   "display_name": "Python 3 (ipykernel)",
   "language": "python",
   "name": "python3"
  },
  "language_info": {
   "codemirror_mode": {
    "name": "ipython",
    "version": 3
   },
   "file_extension": ".py",
   "mimetype": "text/x-python",
   "name": "python",
   "nbconvert_exporter": "python",
   "pygments_lexer": "ipython3",
   "version": "3.11.3"
  }
 },
 "nbformat": 4,
 "nbformat_minor": 5
}
